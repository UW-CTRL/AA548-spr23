{
  "nbformat": 4,
  "nbformat_minor": 0,
  "metadata": {
    "colab": {
      "provenance": [],
      "authorship_tag": "ABX9TyNKemLuo6QjoywSGvF9a+nG",
      "include_colab_link": true
    },
    "kernelspec": {
      "name": "python3",
      "display_name": "Python 3"
    },
    "language_info": {
      "name": "python"
    }
  },
  "cells": [
    {
      "cell_type": "markdown",
      "metadata": {
        "id": "view-in-github",
        "colab_type": "text"
      },
      "source": [
        "<a href=\"https://colab.research.google.com/github/UW-CTRL/AA548-spr23/blob/main/demos/svd.ipynb\" target=\"_parent\"><img src=\"https://colab.research.google.com/assets/colab-badge.svg\" alt=\"Open In Colab\"/></a>"
      ]
    },
    {
      "cell_type": "code",
      "execution_count": null,
      "metadata": {
        "id": "rt9beOAH1jEY"
      },
      "outputs": [],
      "source": [
        "import numpy as np"
      ]
    },
    {
      "cell_type": "markdown",
      "source": [
        "# Singular Value Decomposition\n",
        "\n",
        "adapted from https://web.mit.edu/be.400/www/SVD/Singular_Value_Decomposition.htm"
      ],
      "metadata": {
        "id": "aHHbE2Wo1q3H"
      }
    },
    {
      "cell_type": "code",
      "source": [
        "A = np.matrix([[2., 4.],\n",
        "               [1., 3.],\n",
        "               [0., 0.],\n",
        "               [0., 0.],\n",
        "])"
      ],
      "metadata": {
        "id": "RvHgbUPy1olI"
      },
      "execution_count": null,
      "outputs": []
    },
    {
      "cell_type": "markdown",
      "source": [
        "Can compute SVD directly using `np.linalg.svd`"
      ],
      "metadata": {
        "id": "KVPbRlm-2PO7"
      }
    },
    {
      "cell_type": "code",
      "source": [
        "np.linalg.svd?"
      ],
      "metadata": {
        "id": "BMtqw00x2TyG"
      },
      "execution_count": null,
      "outputs": []
    },
    {
      "cell_type": "code",
      "source": [
        "u, s, vh = np.linalg.svd(A)"
      ],
      "metadata": {
        "id": "Se_eiEtQ1-M1"
      },
      "execution_count": null,
      "outputs": []
    },
    {
      "cell_type": "code",
      "source": [
        "u, s, vh"
      ],
      "metadata": {
        "colab": {
          "base_uri": "https://localhost:8080/"
        },
        "id": "Xcp-6Pv82BiF",
        "outputId": "674e873c-4867-487c-c1da-c697f16aa088"
      },
      "execution_count": null,
      "outputs": [
        {
          "output_type": "execute_result",
          "data": {
            "text/plain": [
              "(matrix([[-0.81741556, -0.57604844,  0.        ,  0.        ],\n",
              "         [-0.57604844,  0.81741556,  0.        ,  0.        ],\n",
              "         [ 0.        ,  0.        ,  1.        ,  0.        ],\n",
              "         [ 0.        ,  0.        ,  0.        ,  1.        ]]),\n",
              " array([5.4649857 , 0.36596619]),\n",
              " matrix([[-0.40455358, -0.9145143 ],\n",
              "         [-0.9145143 ,  0.40455358]]))"
            ]
          },
          "metadata": {},
          "execution_count": 33
        }
      ]
    },
    {
      "cell_type": "markdown",
      "source": [
        "But we also know that:\n",
        "\n",
        "1. $ (AA^*)x = \\sigma^2x$\n",
        "\n",
        "2. $ (A^*A)y = \\sigma^2y$\n"
      ],
      "metadata": {
        "id": "-lCqtjsV2mOt"
      }
    },
    {
      "cell_type": "markdown",
      "source": [
        "##  1. $ (AA^*)x = \\sigma^2x$"
      ],
      "metadata": {
        "id": "93z02xH82-gQ"
      }
    },
    {
      "cell_type": "code",
      "source": [
        "np.linalg.eig?"
      ],
      "metadata": {
        "id": "jmx6zWE_2D6G"
      },
      "execution_count": null,
      "outputs": []
    },
    {
      "cell_type": "code",
      "source": [
        "wx, vx = np.linalg.eig(A @ A.T)"
      ],
      "metadata": {
        "id": "zga4yBxb3Dnw"
      },
      "execution_count": null,
      "outputs": []
    },
    {
      "cell_type": "code",
      "source": [
        "wx, vx"
      ],
      "metadata": {
        "colab": {
          "base_uri": "https://localhost:8080/"
        },
        "id": "oleQV-7b3Pvf",
        "outputId": "9f48d5ab-fab5-4522-c5b5-89cf469757ad"
      },
      "execution_count": null,
      "outputs": [
        {
          "output_type": "execute_result",
          "data": {
            "text/plain": [
              "(array([29.86606875,  0.13393125,  0.        ,  0.        ]),\n",
              " matrix([[ 0.81741556, -0.57604844,  0.        ,  0.        ],\n",
              "         [ 0.57604844,  0.81741556,  0.        ,  0.        ],\n",
              "         [ 0.        ,  0.        ,  1.        ,  0.        ],\n",
              "         [ 0.        ,  0.        ,  0.        ,  1.        ]]))"
            ]
          },
          "metadata": {},
          "execution_count": 36
        }
      ]
    },
    {
      "cell_type": "code",
      "source": [
        "np.sqrt(wx)"
      ],
      "metadata": {
        "colab": {
          "base_uri": "https://localhost:8080/"
        },
        "id": "lb4mogeM4DzR",
        "outputId": "10a39d81-6a58-4b30-a59d-0f4d87a549f3"
      },
      "execution_count": null,
      "outputs": [
        {
          "output_type": "execute_result",
          "data": {
            "text/plain": [
              "array([5.4649857 , 0.36596619, 0.        , 0.        ])"
            ]
          },
          "metadata": {},
          "execution_count": 37
        }
      ]
    },
    {
      "cell_type": "markdown",
      "source": [
        "## 2. $ (A^*A)y = \\sigma^2y$"
      ],
      "metadata": {
        "id": "zu0fBMzy3nRg"
      }
    },
    {
      "cell_type": "code",
      "source": [
        "wy, vy = np.linalg.eig(A.T @ A)"
      ],
      "metadata": {
        "id": "81Pq7FOB3VBM"
      },
      "execution_count": null,
      "outputs": []
    },
    {
      "cell_type": "code",
      "source": [
        "wy, vy"
      ],
      "metadata": {
        "colab": {
          "base_uri": "https://localhost:8080/"
        },
        "id": "D4aHhBTb3uUv",
        "outputId": "2b840b9f-f48a-4abc-f223-2152012439cc"
      },
      "execution_count": null,
      "outputs": [
        {
          "output_type": "execute_result",
          "data": {
            "text/plain": [
              "(array([ 0.13393125, 29.86606875]), matrix([[-0.9145143 , -0.40455358],\n",
              "         [ 0.40455358, -0.9145143 ]]))"
            ]
          },
          "metadata": {},
          "execution_count": 39
        }
      ]
    },
    {
      "cell_type": "code",
      "source": [
        "np.sqrt(wy)"
      ],
      "metadata": {
        "colab": {
          "base_uri": "https://localhost:8080/"
        },
        "id": "WuCgQ4JZ3xY7",
        "outputId": "b298b393-1752-40f6-f170-075195fc40dc"
      },
      "execution_count": null,
      "outputs": [
        {
          "output_type": "execute_result",
          "data": {
            "text/plain": [
              "array([0.36596619, 5.4649857 ])"
            ]
          },
          "metadata": {},
          "execution_count": 40
        }
      ]
    },
    {
      "cell_type": "code",
      "source": [
        "vy"
      ],
      "metadata": {
        "colab": {
          "base_uri": "https://localhost:8080/"
        },
        "id": "J_0026MR4LLS",
        "outputId": "8b9300a3-ceda-468d-eb72-da87f0b1feae"
      },
      "execution_count": null,
      "outputs": [
        {
          "output_type": "execute_result",
          "data": {
            "text/plain": [
              "matrix([[-0.9145143 , -0.40455358],\n",
              "        [ 0.40455358, -0.9145143 ]])"
            ]
          },
          "metadata": {},
          "execution_count": 41
        }
      ]
    },
    {
      "cell_type": "code",
      "source": [
        "v_ordered = np.concatenate([vy[:,1], vy[:,0]],1)\n",
        "v_ordered"
      ],
      "metadata": {
        "colab": {
          "base_uri": "https://localhost:8080/"
        },
        "id": "obpsm6-O4aDf",
        "outputId": "f267d7fb-4106-4617-8891-ea7c0df5dfd0"
      },
      "execution_count": null,
      "outputs": [
        {
          "output_type": "execute_result",
          "data": {
            "text/plain": [
              "matrix([[-0.40455358, -0.9145143 ],\n",
              "        [-0.9145143 ,  0.40455358]])"
            ]
          },
          "metadata": {},
          "execution_count": 48
        }
      ]
    },
    {
      "cell_type": "code",
      "source": [
        "v_ordered.T"
      ],
      "metadata": {
        "colab": {
          "base_uri": "https://localhost:8080/"
        },
        "id": "NQPSnSs64yue",
        "outputId": "c02d3d9d-3e3c-4041-f053-a1fbfc728d62"
      },
      "execution_count": null,
      "outputs": [
        {
          "output_type": "execute_result",
          "data": {
            "text/plain": [
              "matrix([[-0.40455358, -0.9145143 ],\n",
              "        [-0.9145143 ,  0.40455358]])"
            ]
          },
          "metadata": {},
          "execution_count": 51
        }
      ]
    },
    {
      "cell_type": "code",
      "source": [
        "vh"
      ],
      "metadata": {
        "colab": {
          "base_uri": "https://localhost:8080/"
        },
        "id": "yQptsxPH43UE",
        "outputId": "d78cfdff-83ca-4eb4-f225-c920989e7a25"
      },
      "execution_count": null,
      "outputs": [
        {
          "output_type": "execute_result",
          "data": {
            "text/plain": [
              "matrix([[-0.40455358, -0.9145143 ],\n",
              "        [-0.9145143 ,  0.40455358]])"
            ]
          },
          "metadata": {},
          "execution_count": 52
        }
      ]
    },
    {
      "cell_type": "code",
      "source": [
        "vx"
      ],
      "metadata": {
        "colab": {
          "base_uri": "https://localhost:8080/"
        },
        "id": "xbd1CmTs49rQ",
        "outputId": "1cfe3d35-798d-4bac-b3b1-6f1bc8888809"
      },
      "execution_count": null,
      "outputs": [
        {
          "output_type": "execute_result",
          "data": {
            "text/plain": [
              "matrix([[ 0.81741556, -0.57604844,  0.        ,  0.        ],\n",
              "        [ 0.57604844,  0.81741556,  0.        ,  0.        ],\n",
              "        [ 0.        ,  0.        ,  1.        ,  0.        ],\n",
              "        [ 0.        ,  0.        ,  0.        ,  1.        ]])"
            ]
          },
          "metadata": {},
          "execution_count": 53
        }
      ]
    },
    {
      "cell_type": "code",
      "source": [
        "u"
      ],
      "metadata": {
        "colab": {
          "base_uri": "https://localhost:8080/"
        },
        "id": "brzkqVXr5Ad3",
        "outputId": "ed6a75c0-ce14-4d91-b6be-2b442bae2d11"
      },
      "execution_count": null,
      "outputs": [
        {
          "output_type": "execute_result",
          "data": {
            "text/plain": [
              "matrix([[-0.81741556, -0.57604844,  0.        ,  0.        ],\n",
              "        [-0.57604844,  0.81741556,  0.        ,  0.        ],\n",
              "        [ 0.        ,  0.        ,  1.        ,  0.        ],\n",
              "        [ 0.        ,  0.        ,  0.        ,  1.        ]])"
            ]
          },
          "metadata": {},
          "execution_count": 54
        }
      ]
    },
    {
      "cell_type": "code",
      "source": [],
      "metadata": {
        "id": "IqMw9LHl5Bfq"
      },
      "execution_count": null,
      "outputs": []
    }
  ]
}