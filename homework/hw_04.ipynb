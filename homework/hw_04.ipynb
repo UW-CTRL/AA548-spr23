{
  "nbformat": 4,
  "nbformat_minor": 0,
  "metadata": {
    "colab": {
      "provenance": [],
      "authorship_tag": "ABX9TyMYOxgg1qFWJ96QWABU2+K2",
      "include_colab_link": true
    },
    "kernelspec": {
      "name": "python3",
      "display_name": "Python 3"
    },
    "language_info": {
      "name": "python"
    }
  },
  "cells": [
    {
      "cell_type": "markdown",
      "metadata": {
        "id": "view-in-github",
        "colab_type": "text"
      },
      "source": [
        "<a href=\"https://colab.research.google.com/github/UW-CTRL/AA548-spr23/blob/main/homework/hw_04.ipynb\" target=\"_parent\"><img src=\"https://colab.research.google.com/assets/colab-badge.svg\" alt=\"Open In Colab\"/></a>"
      ]
    },
    {
      "cell_type": "markdown",
      "source": [
        "# AA/EE/ME 548: Homework 04\n",
        "\n",
        "## Name:\n",
        "\n",
        "### Export page instructions:\n",
        "Make sure all the text and figures are shown in your PDF print out. Try zooming out / widening your browser window etc when you print to PDF. Whatever needs to be done so that all the relevant content is shown in the PDF.\n",
        "\n",
        "### Homework feedback:\n",
        "\n",
        "**What was the coolest thing(s) you learned from lectures/homework that you didn't know previously?**\n",
        "\n",
        "\n",
        "**Which problem did you find the most challenging and why?**\n",
        "\n",
        "\n",
        "**Approximate how long did you spend on this homework?**\n",
        "\n",
        "\n",
        "**Feedback on this homework (can improve for future hw and years)**\n",
        "\n",
        "\n",
        "## Submission details\n",
        "To submit your homework, please save a PDF copy of your notebook (make sure all the cells are run correctly, and the correct outputs are displayed), and submit via Canvas."
      ],
      "metadata": {
        "id": "ZlHPHXM-BjsW"
      }
    },
    {
      "cell_type": "code",
      "source": [
        "import numpy as np\n",
        "import matplotlib.pyplot as plt\n",
        "from matplotlib.patches import Ellipse\n",
        "import cvxpy as cp\n",
        "plt.style.use('seaborn-ticks')\n"
      ],
      "metadata": {
        "id": "HiXNkf-3BnGj",
        "colab": {
          "base_uri": "https://localhost:8080/",
          "height": 0
        },
        "outputId": "1b87ba10-3227-44d7-c795-b13cd1a8459e"
      },
      "execution_count": 1,
      "outputs": [
        {
          "output_type": "stream",
          "name": "stderr",
          "text": [
            "<ipython-input-1-fd7eff59c6d0>:6: MatplotlibDeprecationWarning: The seaborn styles shipped by Matplotlib are deprecated since 3.6, as they no longer correspond to the styles shipped by seaborn. However, they will remain available as 'seaborn-v0_8-<style>'. Alternatively, directly use the seaborn API instead.\n",
            "  plt.style.use('seaborn-ticks')\n"
          ]
        }
      ]
    },
    {
      "cell_type": "markdown",
      "source": [
        "## Problem 1"
      ],
      "metadata": {
        "id": "zucTOJz_BwEZ"
      }
    },
    {
      "cell_type": "markdown",
      "source": [
        "You may find the following code template useful. But you are not required to use it if you / feel free to edit it however you like / write your own version of the code\n",
        "\n",
        "\n",
        "\n"
      ],
      "metadata": {
        "id": "HnKVW-2tok2s"
      }
    },
    {
      "cell_type": "code",
      "source": [
        "# set up trajectory optimization problem but with initial state as a parameter that can be updated\n",
        "def setup_trajopt(A_dyn, B_dyn, Q, R, Qt, goal, u_max, MPC_horizon):\n",
        "    n = A_dyn.shape[0]\n",
        "    m = B_dyn.shape[1]\n",
        "    us = cp.Variable([MPC_horizon,m], name=\"controls\")\n",
        "    xs = cp.Variable([MPC_horizon+1,n], name=\"states\")\n",
        "    # initial state is a parameter. It can be updated before solving the problem\n",
        "    initial_state = cp.Parameter(n, name=\"initial_state\")\n",
        "    \n",
        "    objective = ... # fill code\n",
        "    constraints = ... # fill code\n",
        "\n",
        "    problem = cp.Problem(cp.Minimize(objective), constraints)\n",
        "    return problem\n",
        "\n",
        "# function to update the value of initial_state\n",
        "def update_initial_state(problem, initial_state):\n",
        "    problem.param_dict[\"initial_state\"].project_and_assign(initial_state)\n",
        "    return problem\n",
        "\n",
        "\n"
      ],
      "metadata": {
        "id": "LNM9sokX0epp"
      },
      "execution_count": 2,
      "outputs": []
    },
    {
      "cell_type": "code",
      "source": [
        "dt = 0.1    # time step size\n",
        "n = 4   # state dim\n",
        "m = 2   # control dim\n",
        "\n",
        "Q = np.diag([5., 5., 1., 1.]) \n",
        "Qt = np.eye(n) * 8.0\n",
        "R = np.diag([1., 1.])\n",
        "goal_state = np.zeros(n)\n",
        "initial_state = np.array([-4, 0., 0., 2.])\n",
        "u_max = 2.  # maximum control magnitude\n",
        "N_MPC_horizon = 10\n",
        "N_total_horizon = 50\n",
        "Sigma_vec = np.array([0.0, 0.0, .1, .1])\n",
        "np.random.seed(seed=123)\n",
        "noise_vec = np.random.randn(N_MPC_horizon, n) * Sigma_vec\n",
        "\n",
        "A_dynamics = np.array([[1., 0., dt, 0.],\n",
        "                        [0., 1., 0., dt],\n",
        "                        [0., 0., 1., 0.],\n",
        "                        [0., 0., 0., 1.]])\n",
        "\n",
        "B_dynamics = np.array([[0.5 * dt**2, 0.],\n",
        "                        [0., 0.5 * dt**2],\n",
        "                        [dt, 0.],\n",
        "                        [0., dt]])  \n",
        "\n",
        "def simulate_system(initial_state, controls, noise_vec):\n",
        "    '''\n",
        "    initial_state has size [n,]\n",
        "    controls has size [T,m]\n",
        "    noise_vec has size [T,n]\n",
        "    '''\n",
        "\n",
        "    T = controls.shape[0]\n",
        "    n = initial_state.shape[0]\n",
        "    states = np.zeros([T+1, n])\n",
        "    states[0] = initial_state\n",
        "    for (t,ctrl) in enumerate(controls):\n",
        "        states[t+1] = A_dynamics @ states[t] + B_dynamics @ ctrl + noise_vec[t]\n",
        "    return states"
      ],
      "metadata": {
        "id": "XB8hfd3LOcku"
      },
      "execution_count": 3,
      "outputs": []
    },
    {
      "cell_type": "markdown",
      "source": [
        "## (a)"
      ],
      "metadata": {
        "id": "6tndcf6Q6X8i"
      }
    },
    {
      "cell_type": "code",
      "source": [
        "MPC_states = ...  # size [time_horizon+1, n]\n",
        "MPC_controls = ...  # size [time_horizon, m]\n",
        "true_states = ...  # size [time_horizon+1, n]\n"
      ],
      "metadata": {
        "id": "o_yI9Aev6h-F"
      },
      "execution_count": null,
      "outputs": []
    },
    {
      "cell_type": "code",
      "source": [
        "plt.figure(figsize=(15,5))\n",
        "\n",
        "plt.subplot(1,2,1)\n",
        "plt.plot(MPC_states[:,0], MPC_states[:,1], label=\"MPC trajectory\")\n",
        "plt.quiver(MPC_states[:,0], MPC_states[:,1], MPC_states[:,2], MPC_states[:,3], scale=30, width=.003)\n",
        "plt.quiver(MPC_states[:-1,0], MPC_states[:-1,1], MPC_controls[:,0], MPC_controls[:,1], scale=30, width=.003, color='red')\n",
        "\n",
        "plt.plot(true_states[:,0], true_states[:,1], label=\"true trajectory\")\n",
        "plt.quiver(true_states[:,0], true_states[:,1], true_states[:,2], true_states[:,3], scale=30, width=.003)\n",
        "plt.quiver(true_states[:-1,0], true_states[:-1,1], MPC_controls[:,0], MPC_controls[:,1], scale=30, width=.003, color='red')\n",
        "plt.title(\"Optimal Trajectory with velocity and acceleration vector\")\n",
        "plt.legend()\n",
        "plt.xlabel(\"$x$ position\")\n",
        "plt.ylabel(\"$y$ position\")\n",
        "plt.grid()\n",
        "\n",
        "plt.subplot(1,2,2)\n",
        "plt.plot(MPC_controls)\n",
        "plt.plot(np.linalg.norm(MPC_controls, 2, axis=1), '--')\n",
        "plt.title(\"Optimal Control Sequence\")\n",
        "plt.xlabel(\"Time (s)\")\n",
        "plt.ylabel(\"Acceleration\")\n",
        "plt.legend([\"$a_x$\", \"$a_y$\", \"$\\|a\\|_2$\"])\n",
        "plt.grid()"
      ],
      "metadata": {
        "id": "A2NqmmV91YHl"
      },
      "execution_count": null,
      "outputs": []
    },
    {
      "cell_type": "markdown",
      "source": [
        "## (b)"
      ],
      "metadata": {
        "id": "YkyYa7W96bvY"
      }
    },
    {
      "cell_type": "code",
      "source": [
        "# pre-defining the noise applied to the system\n",
        "np.random.seed(seed=123) # play around with different seeds\n",
        "noise_vec = np.random.randn(N_total_horizon, n) * np.array([0.0, 0.0, .1, .1])"
      ],
      "metadata": {
        "id": "fbEJHr086cYK"
      },
      "execution_count": null,
      "outputs": []
    },
    {
      "cell_type": "code",
      "source": [
        "# your MPC code\n",
        "\n",
        "MPC_states = ...  # size [time_horizon+1, n]\n",
        "MPC_controls = ...  # size [time_horizon, n]\n",
        "OL_states = ...  # size [time_horizon+1, n]\n",
        "OL_controls = ...  # size [time_horizon, n]"
      ],
      "metadata": {
        "id": "SHGFwQfM8hWS"
      },
      "execution_count": null,
      "outputs": []
    },
    {
      "cell_type": "code",
      "source": [
        "plt.figure(figsize=(15,5))\n",
        "\n",
        "plt.subplot(1,2,1)\n",
        "plt.plot(MPC_states[:,0], MPC_states[:,1], label=\"MPC trajectory\", marker='.')\n",
        "plt.plot(OL_states[:,0], OL_states[:,1], label=\"true OL trajectory\", marker='.')\n",
        "\n",
        "plt.title(\"Optimal Trajectory with velocity and acceleration vector\")\n",
        "plt.legend()\n",
        "plt.xlabel(\"$x$ position\")\n",
        "plt.ylabel(\"$y$ position\")\n",
        "plt.grid()\n",
        "\n",
        "plt.subplot(1,2,2)\n",
        "plt.plot(MPC_controls)\n",
        "plt.plot(np.linalg.norm(MPC_controls, 2, axis=1), '--')\n",
        "\n",
        "plt.plot(OL_controls)\n",
        "plt.plot(np.linalg.norm(OL_controls, 2, axis=1), '--')\n",
        "\n",
        "plt.title(\"Optimal Control Sequence\")\n",
        "plt.xlabel(\"Time (s)\")\n",
        "plt.ylabel(\"Acceleration\")\n",
        "plt.legend([\"MPC $a_x$\", \"MPC $a_y$\", \"MPC $\\|a\\|_2$\", \"OL $a_x$\", \"OL $a_y$\", \"OL $\\|a\\|_2$\"])\n",
        "plt.grid()"
      ],
      "metadata": {
        "id": "X5BLeotc9Wbe"
      },
      "execution_count": null,
      "outputs": []
    },
    {
      "cell_type": "markdown",
      "source": [
        "# Problem 2 Kalman Filter"
      ],
      "metadata": {
        "id": "9IM9c5xj9qCM"
      }
    },
    {
      "cell_type": "markdown",
      "source": [
        "## (a)"
      ],
      "metadata": {
        "id": "HuyZR-Q49tkv"
      }
    },
    {
      "cell_type": "markdown",
      "source": [
        "## (b)"
      ],
      "metadata": {
        "id": "KekU5dH09viU"
      }
    },
    {
      "cell_type": "markdown",
      "source": [
        "## (c)"
      ],
      "metadata": {
        "id": "cN9ptlYG90Ej"
      }
    },
    {
      "cell_type": "markdown",
      "source": [
        "## (d)"
      ],
      "metadata": {
        "id": "lbOhtht690HI"
      }
    },
    {
      "cell_type": "code",
      "source": [
        "# your code here. Make sure you label your plot clearly\n",
        "# Recommend using plt.plot and plt.scatter to clearly show the state at each time step"
      ],
      "metadata": {
        "id": "H-g5zbU094FW"
      },
      "execution_count": 4,
      "outputs": []
    },
    {
      "cell_type": "markdown",
      "source": [
        "## (e)"
      ],
      "metadata": {
        "id": "Fudwi-s890Jw"
      }
    },
    {
      "cell_type": "markdown",
      "source": [
        "## (f)"
      ],
      "metadata": {
        "id": "nDfRdssc90L7"
      }
    },
    {
      "cell_type": "code",
      "source": [
        "# you may find these plotting functionalities useful. Or you can use your own code\n",
        "\n",
        "def create_95_ellipse_patch(mean, covariance):\n",
        "    chi_95 = 5.991\n",
        "    def eigsorted(cov):\n",
        "        vals, vecs = np.linalg.eigh(cov)\n",
        "        order = vals.argsort()[::-1]\n",
        "        return vals[order], vecs[:,order]\n",
        "    vals, vecs = eigsorted(covariance)\n",
        "    theta = np.degrees(np.arctan2(*vecs[:,0][::-1]))\n",
        "    w, h = 2  * np.sqrt(vals * chi_95)\n",
        "    return Ellipse(xy=mean, width=w, height=h, angle=theta)\n",
        "\n",
        "\n",
        "def plot_95_ellipse(mean, covariance):\n",
        "    chi_95 = 5.991\n",
        "    mean = np.array([[mean[0]],[mean[1]]])\n",
        "    val, rot = np.linalg.eig(covariance)\n",
        "    val = np.sqrt(val * chi_95)\n",
        "    t = np.linspace(0, 2.0 * np.pi, 1000)\n",
        "    xy = np.stack((np.cos(t), np.sin(t)), axis=-1)\n",
        "\n",
        "    plt.plot(*(rot @ (val * xy).T + mean))\n",
        "    plt.fill(*(rot @ (val * xy).T + mean), alpha=0.3)"
      ],
      "metadata": {
        "id": "PCimywzf-qhI"
      },
      "execution_count": null,
      "outputs": []
    },
    {
      "cell_type": "code",
      "source": [
        "# your code"
      ],
      "metadata": {
        "id": "z4Hk_N9vB4oP"
      },
      "execution_count": 5,
      "outputs": []
    },
    {
      "cell_type": "markdown",
      "source": [
        "## (g)"
      ],
      "metadata": {
        "id": "k7MXr_kyBYAO"
      }
    },
    {
      "cell_type": "code",
      "source": [
        "# your code"
      ],
      "metadata": {
        "id": "o5dJBF0gBc9N"
      },
      "execution_count": null,
      "outputs": []
    },
    {
      "cell_type": "markdown",
      "source": [
        "## (h)"
      ],
      "metadata": {
        "id": "jBOEH_m-BdMg"
      }
    },
    {
      "cell_type": "code",
      "source": [
        "# your code "
      ],
      "metadata": {
        "id": "Md4gXDvlB2_t"
      },
      "execution_count": null,
      "outputs": []
    }
  ]
}