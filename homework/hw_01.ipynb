{
  "nbformat": 4,
  "nbformat_minor": 0,
  "metadata": {
    "colab": {
      "provenance": [],
      "authorship_tag": "ABX9TyOw7uigR6M7W6j/88oaSPX8",
      "include_colab_link": true
    },
    "kernelspec": {
      "name": "python3",
      "display_name": "Python 3"
    },
    "language_info": {
      "name": "python"
    }
  },
  "cells": [
    {
      "cell_type": "markdown",
      "metadata": {
        "id": "view-in-github",
        "colab_type": "text"
      },
      "source": [
        "<a href=\"https://colab.research.google.com/github/UW-CTRL/AA548-spr23/blob/main/homework/hw_01.ipynb\" target=\"_parent\"><img src=\"https://colab.research.google.com/assets/colab-badge.svg\" alt=\"Open In Colab\"/></a>"
      ]
    },
    {
      "cell_type": "markdown",
      "source": [
        "# AA/EE/ME 548: Homework 01\n",
        "\n",
        "## Name:\n",
        "\n",
        "### Homework feedback:\n",
        "\n",
        "**What was the coolest thing(s) you learned from lectures/homework that you didn't know previously?**\n",
        "\n",
        "\n",
        "\n",
        "**Which problem did you find the most challenging and why?**\n",
        "\n",
        "\n",
        "\n",
        "**Approximate how long did you spend on this homework?**\n",
        "\n",
        "\n",
        "\n",
        "## Submission details\n",
        "To submit your homework, please save a PDF copy of your notebook (make sure all the cells are run correctly, and the correct outputs are displayed), and submit via Canvas."
      ],
      "metadata": {
        "id": "6nyM-4gj5rXx"
      }
    },
    {
      "cell_type": "code",
      "source": [
        "import jax\n",
        "import jax.numpy as jnp\n",
        "import numpy as np\n",
        "from jax.typing import ArrayLike\n",
        "import matplotlib.pyplot as plt"
      ],
      "metadata": {
        "id": "iQypn7u13elt"
      },
      "execution_count": null,
      "outputs": []
    },
    {
      "cell_type": "markdown",
      "source": [
        "## Problem 1"
      ],
      "metadata": {
        "id": "uABbwc_avrq1"
      }
    },
    {
      "cell_type": "markdown",
      "source": [
        "\n",
        "(a) [Y/N] ...\n",
        "\n",
        "(b) [Y/N] ...\n",
        "\n",
        "(c) [Y/N] ...\n",
        "\n",
        "(d) [Y/N] ...\n",
        "\n",
        "(e) [Y/N] ...\n",
        "\n"
      ],
      "metadata": {
        "id": "iRSMkjpu1w9H"
      }
    },
    {
      "cell_type": "markdown",
      "source": [
        "# Problem 2"
      ],
      "metadata": {
        "id": "aILSm7vc2FzK"
      }
    },
    {
      "cell_type": "markdown",
      "source": [
        "(a) [Y/N] ...\n",
        "\n",
        "(b) [Y/N] ...\n",
        "\n",
        "(c) [Y/N] ...\n",
        "\n",
        "(d) [Y/N] ...\n",
        "\n",
        "(e) [Y/N] ..."
      ],
      "metadata": {
        "id": "mcDdh3Hj2MRm"
      }
    },
    {
      "cell_type": "markdown",
      "source": [
        "# Problem 3"
      ],
      "metadata": {
        "id": "BB3sVBGr2N54"
      }
    },
    {
      "cell_type": "markdown",
      "source": [
        "## 3(a)\n",
        "\n",
        "[enter your answer here]\n",
        "\n",
        "$ x_{t+1} = \\begin{bmatrix} ...\\\\...\\\\...\\\\...\\\\ \\end{bmatrix}$"
      ],
      "metadata": {
        "id": "wHfveAi82a_0"
      }
    },
    {
      "cell_type": "markdown",
      "source": [
        "## 3(b)\n",
        "\n",
        "In the next cell, you are provided a control sequence `controls` which is `T` time steps long, and an `initial_state` value."
      ],
      "metadata": {
        "id": "9ohfEroE3BBL"
      }
    },
    {
      "cell_type": "code",
      "source": [
        "## DO NOT ALTER ##\n",
        "T = 40\n",
        "w_sequence = jnp.sin(jnp.linspace(0, jnp.pi, T))  # w varies sinusoidally over time\n",
        "controls = jnp.stack([w_sequence, jnp.zeros(T)], 1)  # a is zero (constant speed), size [T, 2] array\n",
        "initial_state = jnp.array([0, 0, 0, 2])  # initial state, size [4,] array\n",
        "#####################\n"
      ],
      "metadata": {
        "id": "VV9R_62z2aM9"
      },
      "execution_count": null,
      "outputs": []
    },
    {
      "cell_type": "code",
      "source": [
        "## [put your code here]"
      ],
      "metadata": {
        "id": "t0GKMdEBJC8o"
      },
      "execution_count": null,
      "outputs": []
    },
    {
      "cell_type": "markdown",
      "source": [
        "## 3(b) `t=0.01`"
      ],
      "metadata": {
        "id": "Hl7ttyI_4sF5"
      }
    },
    {
      "cell_type": "code",
      "source": [
        "# [put your code here]\n",
        "# label your plots clearly, including a legend describing which trajectory corresponds to zero-order hold or euler integration"
      ],
      "metadata": {
        "id": "hPqrTzf44kIh"
      },
      "execution_count": null,
      "outputs": []
    },
    {
      "cell_type": "markdown",
      "source": [
        "## 3(b) `t=0.1`"
      ],
      "metadata": {
        "id": "_eco7lTw4xu2"
      }
    },
    {
      "cell_type": "code",
      "source": [
        "# [put your code here]\n",
        "# label your plots clearly, including a legend describing which trajectory corresponds to zero-order hold or euler integration"
      ],
      "metadata": {
        "id": "DMztwRtv4zMT"
      },
      "execution_count": null,
      "outputs": []
    },
    {
      "cell_type": "markdown",
      "source": [
        "## 3(b) `t=0.5`"
      ],
      "metadata": {
        "id": "wTsGnpDK4zwm"
      }
    },
    {
      "cell_type": "code",
      "source": [
        "# [put your code here]\n",
        "# label your plots clearly, including a legend describing which trajectory corresponds to zero-order hold or euler integration"
      ],
      "metadata": {
        "id": "0k8bnVHh40z4"
      },
      "execution_count": null,
      "outputs": []
    },
    {
      "cell_type": "markdown",
      "source": [
        "## 3(b)\n",
        "[Put your comments about the plots here]"
      ],
      "metadata": {
        "id": "JUi6zM4Q5O2t"
      }
    },
    {
      "cell_type": "markdown",
      "source": [
        "# Problem 4"
      ],
      "metadata": {
        "id": "wQuo4N4E5U0K"
      }
    },
    {
      "cell_type": "markdown",
      "source": [
        "## 4(a)\n",
        "\n",
        "$A_t = \\begin{bmatrix} ... \\end{bmatrix}$\n",
        "\n",
        "$B_t = \\begin{bmatrix} ... \\end{bmatrix}$\n",
        "\n",
        "$C_t =  \\begin{bmatrix} ... \\end{bmatrix}$"
      ],
      "metadata": {
        "id": "Z1g4mrED6w2L"
      }
    },
    {
      "cell_type": "markdown",
      "source": [
        "## 4(b) Using Jax to perform automatic differentiation"
      ],
      "metadata": {
        "id": "QBSWUKeB7G57"
      }
    },
    {
      "cell_type": "code",
      "source": [
        "def linearize_dynamics_autodifferentiation(dynamics_func, state0: ArrayLike, control0: ArrayLike) -> tuple:\n",
        "  '''\n",
        "  dynamics_func: a function that takes in two inputs, state and control. i.e., dynamics_func(state, control)\n",
        "  HINT: read documentation for jac.jacobian\n",
        "  '''\n",
        "  A = ...\n",
        "  B = ...\n",
        "  C = ...\n",
        "  return A, B, C\n",
        "\n",
        "def linearize_unicycle_dynamics_analytic(state0: ArrayLike, control0: ArrayLike) -> tuple:\n",
        "  # use your answer from 4(a)\n",
        "  A = ...\n",
        "  B = ...\n",
        "  C = ...\n",
        "  return A, B, C\n",
        "\n",
        "def continuous_time_unicycle_dynamics(state: ArrayLike, control: ArrayLike) -> ArrayLike:\n",
        "  xd = ...\n",
        "  yd = ...\n",
        "  thetad = ...\n",
        "  vd = ....\n",
        "  return jnp.array([xd, yd, thetad, vd])"
      ],
      "metadata": {
        "id": "oEKLkhm_5dR4"
      },
      "execution_count": null,
      "outputs": []
    },
    {
      "cell_type": "code",
      "source": [
        "### DO NOT ALTER, but please run this cell for your submission ###\n",
        "states0 = jnp.array([[0.0, 0.0, 0.0, 2.0],\n",
        "                    [0.0, 0.0, jnp.pi, 5.0],\n",
        "                    [1.0, -1.0, jnp.pi/2, 2.0],\n",
        "                    [-2.0, 3.5, jnp.pi/3, 4.5]\n",
        "                   ])\n",
        "controls0 = jnp.array([[1.0, 0.0],\n",
        "                       [-1.0, 0.1],\n",
        "                       [0.5, -0.5],\n",
        "                       [0.0, 0.0]])\n",
        "\n",
        "A_analytic, B_analytic, C_analytic = jax.vmap(linearize_unicycle_dynamics_analytic, [0, 0])(states0, controls0)\n",
        "A_autodiff, B_autodiff, C_autodiff = jax.vmap(linearize_dynamics_autodifferentiation, [None, 0, 0])(continuous_time_unicycle_dynamics, states0, controls0)\n",
        "\n",
        "jnp.sum(A_analytic != A_autodiff) == 0, jnp.sum(B_analytic != B_autodiff) == 0, jnp.sum(C_analytic != C_autodiff) == 0\n",
        "######################"
      ],
      "metadata": {
        "id": "43DlaX0Q8BDC"
      },
      "execution_count": null,
      "outputs": []
    },
    {
      "cell_type": "markdown",
      "source": [
        "## 4(c) Linearize discrete-time dynamics using autodiff\n",
        "\n",
        "You maybe want to revise your code from 3(b) in order to deal with *batched* inputs. Read up on `jax.vmap` documentation, and some examples of how to use it are in the previous cell."
      ],
      "metadata": {
        "id": "OrIP0q0vAKzE"
      }
    },
    {
      "cell_type": "code",
      "source": [
        "def discrete_time_unicycle_dynamics(state: ArrayLike, control: ArrayLike) -> ArrayLike:\n",
        "  xd = ...\n",
        "  yd = ...\n",
        "  thetad = ...\n",
        "  vd = ...\n",
        "  return jnp.array([xd, yd, thetad, vd])"
      ],
      "metadata": {
        "id": "icnPvKJABCLL"
      },
      "execution_count": null,
      "outputs": []
    },
    {
      "cell_type": "code",
      "source": [
        "### DO NOT ALTER, but please run this cell for your submission ###\n",
        "A_autodiff, B_autodiff, C_autodiff = jax.vmap(linearize_dynamics_autodifferentiation, [None, 0, 0])(discrete_time_unicycle_dynamics, states0, controls0)\n",
        "####################"
      ],
      "metadata": {
        "id": "6-Ck_ZP3ArIU"
      },
      "execution_count": null,
      "outputs": []
    },
    {
      "cell_type": "markdown",
      "source": [
        "# Problem 5"
      ],
      "metadata": {
        "id": "LANYbsoqKG-y"
      }
    },
    {
      "cell_type": "markdown",
      "source": [
        "## 5(a) Linearization error"
      ],
      "metadata": {
        "id": "0tj7dpkpKLfQ"
      }
    },
    {
      "cell_type": "code",
      "source": [
        "# no starter code for this problem. You are free to implement it how ever you like. Use previous code for inspiration.  :)\n",
        " "
      ],
      "metadata": {
        "id": "AG3OVXgALHeh"
      },
      "execution_count": null,
      "outputs": []
    },
    {
      "cell_type": "markdown",
      "source": [
        "## 5(b) \n",
        "[your response here]"
      ],
      "metadata": {
        "id": "LJztttj7LY8Q"
      }
    }
  ]
}