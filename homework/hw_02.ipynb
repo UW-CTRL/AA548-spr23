{
  "nbformat": 4,
  "nbformat_minor": 0,
  "metadata": {
    "colab": {
      "provenance": [],
      "authorship_tag": "ABX9TyMICk2KfcDqFEBpueWUXMZn",
      "include_colab_link": true
    },
    "kernelspec": {
      "name": "python3",
      "display_name": "Python 3"
    },
    "language_info": {
      "name": "python"
    }
  },
  "cells": [
    {
      "cell_type": "markdown",
      "metadata": {
        "id": "view-in-github",
        "colab_type": "text"
      },
      "source": [
        "<a href=\"https://colab.research.google.com/github/UW-CTRL/AA548-spr23/blob/main/homework/hw_02.ipynb\" target=\"_parent\"><img src=\"https://colab.research.google.com/assets/colab-badge.svg\" alt=\"Open In Colab\"/></a>"
      ]
    },
    {
      "cell_type": "markdown",
      "source": [
        "# AA/EE/ME 548: Homework 02\n",
        "\n",
        "## Name:\n",
        "\n",
        "### Export page instructions:\n",
        "Export the PDF as though you were going to print the page in your browser (Ctrl+P) rather than through Colab's print functionality, otherwise some of the text will be cut off.\n",
        "\n",
        "### Homework feedback:\n",
        "\n",
        "**What was the coolest thing(s) you learned from lectures/homework that you didn't know previously?**\n",
        "\n",
        "\n",
        "\n",
        "**Which problem did you find the most challenging and why?**\n",
        "\n",
        "\n",
        "\n",
        "**Approximate how long did you spend on this homework?**\n",
        "\n",
        "\n",
        "**Feedback on this homework (can improve for future hw and years)**\n",
        "\n",
        "\n",
        "## Submission details\n",
        "To submit your homework, please save a PDF copy of your notebook (make sure all the cells are run correctly, and the correct outputs are displayed), and submit via Canvas."
      ],
      "metadata": {
        "id": "ZlHPHXM-BjsW"
      }
    },
    {
      "cell_type": "code",
      "source": [
        "import jax\n",
        "import jax.numpy as jnp\n",
        "import numpy as np\n",
        "from jax.typing import ArrayLike\n",
        "import matplotlib.pyplot as plt"
      ],
      "metadata": {
        "id": "HiXNkf-3BnGj"
      },
      "execution_count": null,
      "outputs": []
    },
    {
      "cell_type": "markdown",
      "source": [
        "## Problem 1"
      ],
      "metadata": {
        "id": "zucTOJz_BwEZ"
      }
    },
    {
      "cell_type": "markdown",
      "source": [
        "### (a) (i)"
      ],
      "metadata": {
        "id": "1HJ932I4B1fQ"
      }
    },
    {
      "cell_type": "markdown",
      "source": [
        "### (a) (ii)"
      ],
      "metadata": {
        "id": "xRfFdUiwB1k9"
      }
    },
    {
      "cell_type": "markdown",
      "source": [
        "### (a) (iii)"
      ],
      "metadata": {
        "id": "C60FoBG4B1nm"
      }
    },
    {
      "cell_type": "markdown",
      "source": [
        "### (a) (iv)"
      ],
      "metadata": {
        "id": "jSfcZ0Y7B1qH"
      }
    },
    {
      "cell_type": "markdown",
      "source": [
        "### (a) (v)"
      ],
      "metadata": {
        "id": "KKkIz8LaB1sn"
      }
    },
    {
      "cell_type": "markdown",
      "source": [
        "### (a) (vi)"
      ],
      "metadata": {
        "id": "9_s8eKU6B1ux"
      }
    },
    {
      "cell_type": "markdown",
      "source": [
        "### (b)"
      ],
      "metadata": {
        "id": "P4TIj1LXB1xR"
      }
    },
    {
      "cell_type": "code",
      "source": [
        "# Here is a class describing a dynamically extended unicycle model. \n",
        "# It will be useful to test code in this problem\n",
        "# It will be used to test your code in the later problems.\n",
        "\n",
        "class DynamicallyExtendedUnicycle:\n",
        "\n",
        "  def __call__(self, state, control):\n",
        "    return self.drift_dynamics(state) + self.control_matrix(state) @ control\n",
        "\n",
        "  def drift_dynamics(self, state: ArrayLike) -> tuple:\n",
        "    '''\n",
        "    The \"drift\" term which is the nonlinear term that does not depend on control\n",
        "    Takes state as an input\n",
        "    '''\n",
        "    _, _, theta, v = state\n",
        "    return jnp.array([v * jnp.cos(theta),\n",
        "                    v * jnp.sin(theta),\n",
        "                    0.,\n",
        "                    0.])\n",
        "\n",
        "  def control_matrix(self, state: ArrayLike):\n",
        "    '''\n",
        "    The control matrix B(x) assuming a control affine system.\n",
        "    In general, it may be state depedent, thus takes state as an input \n",
        "    '''\n",
        "    return jnp.array([[0, 0.],\n",
        "                    [0, 0.],\n",
        "                    [jnp.pi/2, 0.],\n",
        "                    [0., 3]])\n",
        "\n",
        "\n",
        "dynamics = DynamicallyExtendedUnicycle()"
      ],
      "metadata": {
        "id": "2NMHJYdln-Oi"
      },
      "execution_count": null,
      "outputs": []
    },
    {
      "cell_type": "code",
      "source": [
        "def barrier_function(state, r=2):\n",
        "  x, y, theta, v = state\n",
        "  return x**2 + y**2 - r**2\n",
        "\n",
        "\n",
        "def control_lyapunov_function_1(state, goal=[4.,0]):\n",
        "  x, y, _, _ = state\n",
        "  xg, yg = goal\n",
        "  return (x - xg)**2 + (y - yg)**2\n",
        "\n",
        "def control_lyapunov_function_2(state, goal=[4.,0]):\n",
        "  x, y, theta, _ = state\n",
        "  xg, yg = goal\n",
        "  return (theta - jnp.arctan2(yg - y, xg - x))**2"
      ],
      "metadata": {
        "id": "xcNwqkAhAbbk"
      },
      "execution_count": null,
      "outputs": []
    },
    {
      "cell_type": "markdown",
      "source": [
        "### (b) (i) \n",
        "Write a function that computes the Lie derivative for any function $h:\\mathbb{R}^n \\rightarrow \\mathbb{R}$, any vector field $v$, and evaluated at any state $x\\in\\mathbb{R}^n$."
      ],
      "metadata": {
        "id": "V4dWlpJloCue"
      }
    },
    {
      "cell_type": "code",
      "source": [
        "## Put your code here\n",
        "\n",
        "def lie_derivative(func, vector_field_func, state):\n",
        "  '''\n",
        "  func: a function that takes in a state and returns a scalar value. \n",
        "          i.e., func(state) = scalar\n",
        "  vector_field_func: a function that takes in a state and returns a \n",
        "                      vector/matrix. i.e., func(state) = vector/matrix\n",
        "  state: an array describing the state which is the input to func and \n",
        "          vector_field_func\n",
        "  '''\n",
        "\n",
        "  ## put your code here##\n",
        "  return ...\n",
        "  #######################\n",
        "\n",
        "\n"
      ],
      "metadata": {
        "id": "nkO91l_gCoWj"
      },
      "execution_count": null,
      "outputs": []
    },
    {
      "cell_type": "code",
      "source": [
        "### DO NOT ALTER, but please run this cell for your submission ###\n",
        "test_state = jnp.array([5.0, 5.0, 0.1, 1.0])\n",
        "# made up vector field to test function\n",
        "vector_field_func = lambda state: jnp.array([[0., 0., 1., 0.], \n",
        "                                             [0., 0., 0., 1.], \n",
        "                                             [1., 0., 0., 0.], \n",
        "                                             [0., 1., 0., 0.]])\n",
        "# testing functionality\n",
        "print(\"Lie Derivative: \", lie_derivative(barrier_function, vector_field_func, test_state))\n",
        "######################"
      ],
      "metadata": {
        "id": "a7HqBD0sh58E"
      },
      "execution_count": null,
      "outputs": []
    },
    {
      "cell_type": "markdown",
      "source": [
        "# (b) (ii)"
      ],
      "metadata": {
        "id": "8_i0nOQnhK2g"
      }
    },
    {
      "cell_type": "code",
      "source": [
        "alpha1 = lambda x: 2 * x\n",
        "alpha2 = lambda x: 2 * x"
      ],
      "metadata": {
        "id": "3IVzgXhulLq3"
      },
      "execution_count": null,
      "outputs": []
    },
    {
      "cell_type": "code",
      "source": [
        "## put your code here ##\n",
        "# refer to pdf to see which names correspond to which terms.\n",
        "# Lfb and Lf2b has been filled out for you to help get you started\n",
        "Lfb = lambda state: lie_derivative(barrier_function, dynamics.drift_dynamics, state)\n",
        "Lf2b = lambda state: lie_derivative(Lfb, dynamics.drift_dynamics, state)\n",
        "LgLfb = ...\n",
        "Lfa1b = ...\n",
        "a2_term = ..."
      ],
      "metadata": {
        "id": "-hIWmAjniZ52"
      },
      "execution_count": null,
      "outputs": []
    },
    {
      "cell_type": "code",
      "source": [
        "### DO NOT ALTER, but please run this cell for your submission ###\n",
        "test_state = jnp.array([5.0, 5.0, 0.1, 1.0])\n",
        "print(\"Lfb: \", Lfb(test_state))\n",
        "print(\"Lf2b: \", Lf2b(test_state))\n",
        "print(\"LgLfb: \", LgLfb(test_state))\n",
        "print(\"Lfa1b: \", Lfa1b(test_state))\n",
        "print(\"a2_term: \", a2_term(test_state))\n",
        "######################"
      ],
      "metadata": {
        "id": "j8gaisHSBu8t"
      },
      "execution_count": null,
      "outputs": []
    },
    {
      "cell_type": "markdown",
      "source": [
        "# (b) (iii)"
      ],
      "metadata": {
        "id": "Jgud4s5vlYI-"
      }
    },
    {
      "cell_type": "code",
      "source": [
        "beta1 = lambda x: 0.5 * x\n",
        "beta2 = lambda x: 0.5 * x"
      ],
      "metadata": {
        "id": "lmk1cklEk751"
      },
      "execution_count": null,
      "outputs": []
    },
    {
      "cell_type": "code",
      "source": [
        "## put your code here ##\n",
        "# refer to pdf to see which names correspond to which terms.\n",
        "LfV1 = ...\n",
        "Lf2V1 = ...\n",
        "LgLfV1 = ...\n",
        "Lfb1V1 = ...\n",
        "b2_term = ..."
      ],
      "metadata": {
        "id": "bl2A72pVlhDi"
      },
      "execution_count": null,
      "outputs": []
    },
    {
      "cell_type": "code",
      "source": [
        "### DO NOT ALTER, but please run this cell for your submission ###\n",
        "test_state = jnp.array([5.0, 5.0, 0.1, 1.0])\n",
        "print(\"LfV1: \", LfV1(test_state))\n",
        "print(\"Lf2V1: \", Lf2V1(test_state))\n",
        "print(\"LgLfV1: \", LgLfV1(test_state))\n",
        "print(\"Lfb1V1: \", Lfb1V1(test_state))\n",
        "print(\"b2_term: \", b2_term(test_state))\n",
        "######################"
      ],
      "metadata": {
        "id": "v2DX8KIynXpH"
      },
      "execution_count": null,
      "outputs": []
    },
    {
      "cell_type": "markdown",
      "source": [
        "### (b) (iv)"
      ],
      "metadata": {
        "id": "W2oMppt5ngaH"
      }
    },
    {
      "cell_type": "code",
      "source": [
        "## put your code here ##\n",
        "# refer to pdf to see which names correspond to which terms.\n",
        "LfV2 = ...\n",
        "LgV2 = ..."
      ],
      "metadata": {
        "id": "D1J3HbuingJG"
      },
      "execution_count": null,
      "outputs": []
    },
    {
      "cell_type": "code",
      "source": [
        "### DO NOT ALTER, but please run this cell for your submission ###\n",
        "test_state = jnp.array([5.0, 5.0, 0.1, 1.0])\n",
        "print(\"LfV2: \", LfV2(test_state))\n",
        "print(\"LgV2: \", LgV2(test_state))\n",
        "######################"
      ],
      "metadata": {
        "id": "vXiW1R1VAKt9"
      },
      "execution_count": null,
      "outputs": []
    },
    {
      "cell_type": "markdown",
      "source": [
        "# Problem 2\n"
      ],
      "metadata": {
        "id": "GPlKlq4PoTX3"
      }
    },
    {
      "cell_type": "markdown",
      "source": [
        "## (a) \n",
        "What is the greedy path and corresponding total cost?"
      ],
      "metadata": {
        "id": "OZzFBOs-OSUL"
      }
    },
    {
      "cell_type": "markdown",
      "source": [
        "[your answer here]"
      ],
      "metadata": {
        "id": "4Jk7KSErOZ3W"
      }
    },
    {
      "cell_type": "markdown",
      "source": [
        "## (b) \n",
        "In your submission, attach a figure with all the values and corresponding optimal action noted on the diagram. Using your dynamic programming result, find the shortest path from $A$ to $B$. Write up the optimal action to take at each node starting from $A$ and the optimal total cost. E.g., up, up, down, ..."
      ],
      "metadata": {
        "id": "itLtNF1RogGc"
      }
    },
    {
      "cell_type": "markdown",
      "source": [
        "[Your answer here]"
      ],
      "metadata": {
        "id": "7PKN5zUKok48"
      }
    },
    {
      "cell_type": "markdown",
      "source": [
        "## (c)"
      ],
      "metadata": {
        "id": "HnKVW-2tok2s"
      }
    },
    {
      "cell_type": "markdown",
      "source": [
        "[Your answer here]"
      ],
      "metadata": {
        "id": "h726s4_4ok0e"
      }
    },
    {
      "cell_type": "code",
      "source": [],
      "metadata": {
        "id": "XB8hfd3LOcku"
      },
      "execution_count": null,
      "outputs": []
    }
  ]
}