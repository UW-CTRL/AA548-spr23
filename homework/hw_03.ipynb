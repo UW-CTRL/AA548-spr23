{
  "nbformat": 4,
  "nbformat_minor": 0,
  "metadata": {
    "colab": {
      "provenance": [],
      "authorship_tag": "ABX9TyNRplbSL81QVXNx8w1ZlZBY",
      "include_colab_link": true
    },
    "kernelspec": {
      "name": "python3",
      "display_name": "Python 3"
    },
    "language_info": {
      "name": "python"
    }
  },
  "cells": [
    {
      "cell_type": "markdown",
      "metadata": {
        "id": "view-in-github",
        "colab_type": "text"
      },
      "source": [
        "<a href=\"https://colab.research.google.com/github/UW-CTRL/AA548-spr23/blob/main/homework/hw_03.ipynb\" target=\"_parent\"><img src=\"https://colab.research.google.com/assets/colab-badge.svg\" alt=\"Open In Colab\"/></a>"
      ]
    },
    {
      "cell_type": "markdown",
      "source": [
        "# AA/EE/ME 548: Homework 03\n",
        "\n",
        "## Name:\n",
        "\n",
        "### Export page instructions:\n",
        "Export the PDF as though you were going to print the page in your browser (Ctrl+P) rather than through Colab's print functionality, otherwise some of the text will be cut off.\n",
        "\n",
        "### Homework feedback:\n",
        "\n",
        "**What was the coolest thing(s) you learned from lectures/homework that you didn't know previously?**\n",
        "\n",
        "\n",
        "\n",
        "**Which problem did you find the most challenging and why?**\n",
        "\n",
        "\n",
        "\n",
        "**Approximate how long did you spend on this homework?**\n",
        "\n",
        "\n",
        "**Feedback on this homework (can improve for future hw and years)**\n",
        "\n",
        "\n",
        "## Submission details\n",
        "To submit your homework, please save a PDF copy of your notebook (make sure all the cells are run correctly, and the correct outputs are displayed), and submit via Canvas."
      ],
      "metadata": {
        "id": "ZlHPHXM-BjsW"
      }
    },
    {
      "cell_type": "code",
      "source": [
        "import jax\n",
        "import jax.numpy as jnp\n",
        "import numpy as np\n",
        "from jax.typing import ArrayLike\n",
        "import matplotlib.pyplot as plt"
      ],
      "metadata": {
        "id": "HiXNkf-3BnGj"
      },
      "execution_count": null,
      "outputs": []
    },
    {
      "cell_type": "markdown",
      "source": [
        "## Problem 1"
      ],
      "metadata": {
        "id": "zucTOJz_BwEZ"
      }
    },
    {
      "cell_type": "markdown",
      "source": [
        "### (a)"
      ],
      "metadata": {
        "id": "P4TIj1LXB1xR"
      }
    },
    {
      "cell_type": "markdown",
      "source": [
        "# Problem 2\n",
        "\n",
        "See separate notebook"
      ],
      "metadata": {
        "id": "4NJEunDzHJEY"
      }
    },
    {
      "cell_type": "markdown",
      "source": [
        "# Problem 3"
      ],
      "metadata": {
        "id": "Z5ZkpYkeHMoy"
      }
    },
    {
      "cell_type": "code",
      "source": [
        "!pip install --upgrade hj-reachability"
      ],
      "metadata": {
        "id": "mS6iHUpcHOA8"
      },
      "execution_count": null,
      "outputs": []
    },
    {
      "cell_type": "code",
      "source": [
        "from IPython.display import HTML\n",
        "import matplotlib.animation as anim\n",
        "import plotly.graph_objects as go\n",
        "\n",
        "import hj_reachability as hj\n",
        "from hj_reachability import dynamics\n",
        "from hj_reachability import sets"
      ],
      "metadata": {
        "id": "t13S9UgAH0J7"
      },
      "execution_count": null,
      "outputs": []
    },
    {
      "cell_type": "code",
      "source": [
        "\n",
        "class DynUnicycle(dynamics.ControlAndDisturbanceAffineDynamics):\n",
        "\n",
        "    def __init__(self,\n",
        "                 max_turn_rate=1.,\n",
        "                 max_accel=2.,\n",
        "                 control_mode=\"max\",\n",
        "                 disturbance_mode=\"min\",\n",
        "                 control_space=None,\n",
        "                 disturbance_space=None,\n",
        "                 alpha=0.):\n",
        "        # control and disturbance bounds\n",
        "        # in this set up, the disturbance bounds are proportional to the control\n",
        "        # bounds by a factor of alpha\n",
        "        if control_space is None:\n",
        "            control_space = sets.Box(lo=jnp.array([-max_turn_rate, -max_accel]), hi=jnp.array([max_turn_rate, max_accel]))\n",
        "        if disturbance_space is None:\n",
        "            disturbance_space = sets.Box(lo=jnp.array([-max_turn_rate * alpha, -max_accel * alpha]), hi=jnp.array([max_turn_rate * alpha, max_accel * alpha]))\n",
        "        super().__init__(control_mode, disturbance_mode, control_space, disturbance_space)\n",
        "\n",
        "    def open_loop_dynamics(self, state, time):\n",
        "        ### PUT YOUR CODE HERE ###\n",
        "\n",
        "    def control_jacobian(self, state, time):\n",
        "        ### PUT YOUR CODE HERE ###\n",
        "\n",
        "    def disturbance_jacobian(self, state, time):\n",
        "        ### PUT YOUR CODE HERE ###\n"
      ],
      "metadata": {
        "id": "9O94_w31H0AP"
      },
      "execution_count": null,
      "outputs": []
    },
    {
      "cell_type": "code",
      "source": [
        "\n",
        "### REACH ###\n",
        "# control_mode = \"min\"\n",
        "# disturbance_mode = \"max\"\n",
        "####################################\n",
        "\n",
        "### AVOID or when computing FRS ###\n",
        "control_mode = \"max\"\n",
        "disturbance_mode = \"min\"\n",
        "####################################\n",
        "\n",
        "# model with noise/disturbance bounds proportional to the control limits\n",
        "dynamics_noisy = DynUnicycle(alpha=0.6, control_mode=control_mode, disturbance_mode=disturbance_mode)\n",
        "\n",
        "# no noise on the model\n",
        "dynamics = DynUnicycle(control_mode=control_mode, disturbance_mode=disturbance_mode)\n",
        "\n",
        "grid = hj.Grid.from_lattice_parameters_and_boundary_conditions(hj.sets.Box(lo=np.array([-10., -10., 0., -4.]),\n",
        "                                                                   hi=np.array([10., 10., 2 * np.pi, 4.])), (21, 21, 30, 31),\n",
        "                                                       periodic_dims=2)\n",
        "# terminal values. circle in position space centered at origin and with radius 3\n",
        "values = jnp.linalg.norm(grid.states[..., :2], axis=-1) - 3\n",
        "solver_settings = hj.SolverSettings.with_accuracy(\"very_high\",\n",
        "                                                  hamiltonian_postprocessor=hj.solver.backwards_reachable_tube)"
      ],
      "metadata": {
        "id": "_BdHi7O0Hz85"
      },
      "execution_count": null,
      "outputs": []
    },
    {
      "cell_type": "code",
      "source": [
        "# solve the HJI equation\n",
        "time = 0.\n",
        "target_time = -2  \n",
        "target_values = hj.step(solver_settings, dynamics, grid, time, values, target_time).block_until_ready()\n",
        "target_values_noisy = hj.step(solver_settings, dynamics_noisy, grid, time, values, target_time).block_until_ready()\n"
      ],
      "metadata": {
        "id": "_xnn7ax4Hz4q"
      },
      "execution_count": null,
      "outputs": []
    },
    {
      "cell_type": "code",
      "source": [
        "## plotting\n",
        "fontsize = 16\n",
        "## When plotting, use the following indices for theta and v when \n",
        "## slicing the value function across the x and y dimensions.\n",
        "theta_i = 0\n",
        "v_i = 25\n",
        "\n",
        "plt.jet()\n",
        "plt.figure(figsize=(8, 6))\n",
        "plt.contourf(grid.coordinate_vectors[0], grid.coordinate_vectors[1], target_values[:, :, theta_i, v_i].T)\n",
        "cbar = plt.colorbar()\n",
        "plt.contour(grid.coordinate_vectors[0],\n",
        "            grid.coordinate_vectors[1],\n",
        "            values[:, :, theta_i, v_i].T,\n",
        "            levels=0,\n",
        "            colors=\"black\",\n",
        "            linewidths=3)\n",
        "plt.contour(grid.coordinate_vectors[0],\n",
        "            grid.coordinate_vectors[1],\n",
        "            target_values[:, :, theta_i, v_i].T,\n",
        "            levels=0,\n",
        "            colors=\"red\",\n",
        "            linewidths=3)\n",
        "plt.contour(grid.coordinate_vectors[0],\n",
        "            grid.coordinate_vectors[1],\n",
        "            target_values_noisy[:, :, theta_i, v_i].T,\n",
        "            levels=0,\n",
        "            colors=\"yellow\",\n",
        "            linewidths=3)\n",
        "\n",
        "\n",
        "\n",
        "plt.xticks(fontsize=fontsize)\n",
        "plt.yticks(fontsize=fontsize)\n",
        "ticklabs = cbar.ax.get_yticklabels()\n",
        "cbar.ax.set_yticklabels(ticklabs, fontsize=fontsize)\n",
        "plt.axis(\"equal\")\n",
        "plt.tight_layout() "
      ],
      "metadata": {
        "id": "_qhU3604ZCpv"
      },
      "execution_count": null,
      "outputs": []
    },
    {
      "cell_type": "markdown",
      "source": [
        "# Problem 4"
      ],
      "metadata": {
        "id": "lRZs54Nzbf_i"
      }
    },
    {
      "cell_type": "markdown",
      "source": [
        "## 4(a) \n",
        "\n",
        "[your answer here]"
      ],
      "metadata": {
        "id": "zRgfE9pjbjQW"
      }
    },
    {
      "cell_type": "markdown",
      "source": [
        "## 4(b)"
      ],
      "metadata": {
        "id": "0ofIwLU5bjL8"
      }
    },
    {
      "cell_type": "markdown",
      "source": [],
      "metadata": {
        "id": "H9hcO6U_bjIu"
      }
    },
    {
      "cell_type": "markdown",
      "source": [],
      "metadata": {
        "id": "FdKqRpKlbjA2"
      }
    },
    {
      "cell_type": "code",
      "source": [
        "import cvxpy as cp\n",
        "\n",
        "\n",
        "T = 50  # number of time steps\n",
        "n = 4   # state dimension\n",
        "m = 2   # control dimension\n",
        "\n",
        "\n",
        "xs = cp.Variable([T+1,n]) # state trajectory variable\n",
        "us = cp.Variable([T,m])   # control trajectory variable\n",
        "\n",
        "### Add your code here\n",
        "\n",
        "######################\n",
        "\n",
        "\n",
        "# plotting out results.\n",
        "states = xs.value \n",
        "controls = us.value\n",
        "\n",
        "plt.figure(figsize=(15,5))\n",
        "plt.subplot(1,2,1)\n",
        "plt.plot(states[:,0], states[:,1])\n",
        "plt.quiver(states[:,0], states[:,1], states[:,2], states[:,3], scale=30, width=.003)\n",
        "plt.quiver(states[:-1,0], states[:-1,1], controls[:,0], controls[:,1], scale=30, width=.003, color='red')\n",
        "plt.title(\"Optimal Trajectory with velocity and acceleration vector\")\n",
        "plt.xlabel(\"$x$ position\")\n",
        "plt.ylabel(\"$y$ position\")\n",
        "plt.grid()\n",
        "\n",
        "plt.subplot(1,2,2)\n",
        "plt.plot(controls)\n",
        "plt.plot(np.linalg.norm(controls, 2, axis=1), '--')\n",
        "plt.title(\"Optimal Control Sequence\")\n",
        "plt.xlabel(\"Time (s)\")\n",
        "plt.ylabel(\"Acceleration\")\n",
        "plt.legend([\"$a_x$\", \"$a_y$\", \"$\\|a\\|_2$\"])\n",
        "plt.grid()"
      ],
      "metadata": {
        "id": "9_tuIXHhakpT"
      },
      "execution_count": null,
      "outputs": []
    }
  ]
}